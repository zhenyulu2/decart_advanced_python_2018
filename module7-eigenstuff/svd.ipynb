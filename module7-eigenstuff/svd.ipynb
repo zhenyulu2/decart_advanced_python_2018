{
 "cells": [
  {
   "cell_type": "markdown",
   "metadata": {},
   "source": [
    "# Singular Value Decomposition\n",
    "\n",
    ">The key to working with rectangular matrices is, almost always, to consider $AA^T$ and $A^TA$. (Strang, p.442)\n",
    "\n",
    "All $m\\times n$ matrix A can be factored into \n",
    "\n",
    "\\begin{equation}\n",
    "A = Q_1\\Sigma Q_2^T \n",
    "\\end{equation}\n",
    "\n",
    "* $Q_1$ is $m\\times m$ with columns being the eigenvectors of $AA^T$.\n",
    "* $Q_2$ is $n\\times n$ with columns being the eigenvectors of $A^TA$.\n",
    "* $\\Sigma$ is $m \\times n$ with diagonal values that \"are the square roots of the nonzero eigenvalues of both $AA^T$ and $A^TA$.\"\n",
    "\n",
    "This diagonalization of M0\n",
    "M and MM0\n",
    "shows they have the same\n",
    "eigenvalues up to the dimension of the smaller matrix.\n",
    "The larger matrix has all additional eigvenvalues equal to 0.\n",
    "\n",
    "where $\\Sigma= (orthogonal)(diagonal)(orthogonal).\n",
    "The columns of 2 i (m by m) are eigenvectors of AAr, and the columns of Q2 (n by n) are eigenvectors of ATA. The r singular values on the diagonal of 2 (m by n) are\n",
    "the square roots of the nonzero eigenvalues of both A A1 and A1 A."
   ]
  },
  {
   "cell_type": "markdown",
   "metadata": {},
   "source": [
    "## Applications\n",
    "\n",
    "* [SVD/PCA Microarrays](http://www.math.ucsd.edu/~gptesler/283/slides/pca_15-handout.pdf)\n",
    "* [Another](https://www.cs.cmu.edu/~tom/10701_sp11/slides/pca_wall.pdf)"
   ]
  },
  {
   "cell_type": "code",
   "execution_count": null,
   "metadata": {},
   "outputs": [],
   "source": [
    "from sympy import *"
   ]
  },
  {
   "cell_type": "code",
   "execution_count": null,
   "metadata": {},
   "outputs": [],
   "source": [
    "M = Matrix([[1, 0, 1, 3], [2, 3, 4, 7], [-1, -3, -3, -4]])\n",
    "M"
   ]
  },
  {
   "cell_type": "code",
   "execution_count": null,
   "metadata": {},
   "outputs": [],
   "source": [
    "M.singular_values()"
   ]
  },
  {
   "cell_type": "code",
   "execution_count": null,
   "metadata": {},
   "outputs": [],
   "source": [
    "MMt = M*M.T"
   ]
  },
  {
   "cell_type": "code",
   "execution_count": null,
   "metadata": {},
   "outputs": [],
   "source": [
    "MtM = M.T*M"
   ]
  },
  {
   "cell_type": "code",
   "execution_count": null,
   "metadata": {},
   "outputs": [],
   "source": [
    "MtM.eigenvals()"
   ]
  },
  {
   "cell_type": "code",
   "execution_count": null,
   "metadata": {},
   "outputs": [],
   "source": [
    "MMt.eigenvals()"
   ]
  },
  {
   "cell_type": "code",
   "execution_count": null,
   "metadata": {},
   "outputs": [],
   "source": [
    "import pandas as pd\n",
    "import numpy.linalg as la\n",
    "import numpy as np"
   ]
  },
  {
   "cell_type": "code",
   "execution_count": null,
   "metadata": {},
   "outputs": [],
   "source": [
    "data = pd.read_table(\"https://archive.ics.uci.edu/ml/machine-learning-databases/00243/yacht_hydrodynamics.data\",\n",
    "                      header=None,\n",
    "                      delimiter=\"\\s+\",\n",
    "                      error_bad_lines=False)"
   ]
  },
  {
   "cell_type": "code",
   "execution_count": null,
   "metadata": {},
   "outputs": [],
   "source": [
    "A = np.array([[1, 0, 1, 3], [2, 3, 4, 7], [-1, -3, -3, -4]])"
   ]
  },
  {
   "cell_type": "code",
   "execution_count": null,
   "metadata": {},
   "outputs": [],
   "source": [
    "la.svd(A)"
   ]
  },
  {
   "cell_type": "code",
   "execution_count": null,
   "metadata": {},
   "outputs": [],
   "source": [
    "np.sqrt(3457)"
   ]
  },
  {
   "cell_type": "code",
   "execution_count": null,
   "metadata": {},
   "outputs": [],
   "source": []
  }
 ],
 "metadata": {
  "kernelspec": {
   "display_name": "Python 3",
   "language": "python",
   "name": "python3"
  },
  "language_info": {
   "codemirror_mode": {
    "name": "ipython",
    "version": 3
   },
   "file_extension": ".py",
   "mimetype": "text/x-python",
   "name": "python",
   "nbconvert_exporter": "python",
   "pygments_lexer": "ipython3",
   "version": "3.6.5"
  }
 },
 "nbformat": 4,
 "nbformat_minor": 2
}
