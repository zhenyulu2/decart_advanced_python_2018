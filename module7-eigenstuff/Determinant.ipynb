{
 "cells": [
  {
   "cell_type": "markdown",
   "metadata": {},
   "source": [
    "# [Determinant of a matrix](https://en.wikipedia.org/wiki/Determinant)\n",
    "\n",
    ">It is hard to know what to say about determinants. Seventy years ago they seemed more interesting and more important than the matrices they came from, and Muir's *History of Determinants* filled four volumes. Mathematics keeps changing direction, however, and determinants are now far from the center of linear algebra. After all, a single number can tell only so much about a matrix. Still it is amazing how much this number can do. (Strang *Linear Algebra* p. 211)\n",
    "\n",
    "## Leibniz's Formula for the Determinant of a $2\\times 2$ Matrix\n",
    "\n",
    "Given a matrix\n",
    "\n",
    "\\begin{equation}\n",
    "A=\n",
    "\\begin{bmatrix}\n",
    "\\begin{array}{rr{\\qquad}1}\n",
    "a & b \\\\\n",
    "c & d\n",
    "\\end{array}\n",
    "\\end{bmatrix}\n",
    "\\end{equation}\n",
    "\n",
    "The determinant of $A$ is indicated by \n",
    "\n",
    "\\begin{equation}\n",
    "\\text{det} (A)=\n",
    "\\begin{vmatrix}\n",
    "\\begin{array}{rr{\\qquad}1}\n",
    "a & b \\\\\n",
    "c & d\n",
    "\\end{array}\n",
    "\\end{vmatrix} = ad-bc\n",
    "\\end{equation}\n",
    "\n",
    "## Leibniz's Formula for the Determinant of a $3\\times 3$ Matrix\n",
    "\n",
    "\\begin{equation}\n",
    "A=\n",
    "\\begin{bmatrix}\n",
    "\\begin{array}{rrr{\\qquad}1}\n",
    "a & b & c \\\\\n",
    "d & e & f \\\\\n",
    "g & h & i\n",
    "\\end{array}\n",
    "\\end{bmatrix}\n",
    "\\end{equation}\n",
    "\n",
    "\\begin{equation}\n",
    "\\text{det}(A)=\n",
    "\\begin{vmatrix}\n",
    "\\begin{array}{rrr{\\qquad}1}\n",
    "a & b & c \\\\\n",
    "d & e & f \\\\\n",
    "g & h & i\n",
    "\\end{array}\n",
    "\\end{vmatrix} = a\n",
    "\\begin{vmatrix}\n",
    "\\begin{array}{rr{\\qquad}1}\n",
    "e & f \\\\\n",
    "h & i\n",
    "\\end{array}\n",
    "\\end{vmatrix}- b\n",
    "\\begin{vmatrix}\n",
    "\\begin{array}{rr{\\qquad}1}\n",
    "d & f \\\\\n",
    "g & i\n",
    "\\end{array}\n",
    "\\end{vmatrix}+ c\n",
    "\\begin{vmatrix}\n",
    "\\begin{array}{rr{\\qquad}1}\n",
    "d & e \\\\\n",
    "g & h\n",
    "\\end{array}\n",
    "\\end{vmatrix}\n",
    "\\end{equation}\n",
    "\n",
    "## Determinant of a $n\\times n$ matrix\n",
    "\n",
    "More or less follows from induction/recursion, with a heavy use of the signum (sign) function based on the $i,j$ indices of the matrix.\n",
    "\n",
    "## Properties of the determinant\n",
    "\n",
    "Strang lists four properties of note:\n",
    "\n",
    "1. \"If the determinant of $A$ is zero, then $A$ is singular.\" (No inverse exists.)\n",
    "1. \"The determinant of $A$ equals the volume of a parallelepiped $P$ in n-dimensional space, provided the edges of $P$ come from the rows of $A$.\"\n",
    "1. \"The determinant gives formulas for the pivots.\"\n",
    "1. \"The determinant measures the dependence of $A^{-1}b$ on each element of $b$.\"\n",
    "\n",
    "The 1st property (singularity) is what we will be interested in when we talk about eigenvectors."
   ]
  },
  {
   "cell_type": "markdown",
   "metadata": {},
   "source": [
    "## Using Sympy for symbolic LA"
   ]
  },
  {
   "cell_type": "code",
   "execution_count": null,
   "metadata": {},
   "outputs": [],
   "source": [
    "from sympy import *\n",
    "init_printing(use_unicode=True)"
   ]
  },
  {
   "cell_type": "code",
   "execution_count": null,
   "metadata": {},
   "outputs": [],
   "source": [
    "A = Matrix([[1, -1], [3, 4], [0, 2]])\n",
    "A"
   ]
  },
  {
   "cell_type": "markdown",
   "metadata": {},
   "source": [
    "## Determinant"
   ]
  },
  {
   "cell_type": "code",
   "execution_count": null,
   "metadata": {},
   "outputs": [],
   "source": [
    "A.T"
   ]
  },
  {
   "cell_type": "code",
   "execution_count": null,
   "metadata": {},
   "outputs": [],
   "source": [
    "M = Matrix([[1, 0, 1], [2, -1, 3], [4, 3, 2]])"
   ]
  },
  {
   "cell_type": "code",
   "execution_count": null,
   "metadata": {},
   "outputs": [],
   "source": [
    "M"
   ]
  },
  {
   "cell_type": "code",
   "execution_count": null,
   "metadata": {},
   "outputs": [],
   "source": [
    "M.det()"
   ]
  },
  {
   "cell_type": "code",
   "execution_count": null,
   "metadata": {},
   "outputs": [],
   "source": [
    "M = Matrix([[1, 0, 1, 3], [2, 3, 4, 7], [-1, -3, -3, -4]])"
   ]
  },
  {
   "cell_type": "code",
   "execution_count": null,
   "metadata": {},
   "outputs": [],
   "source": [
    "M.columnspace()"
   ]
  },
  {
   "cell_type": "code",
   "execution_count": null,
   "metadata": {},
   "outputs": [],
   "source": [
    "M.nullspace()"
   ]
  },
  {
   "cell_type": "code",
   "execution_count": null,
   "metadata": {},
   "outputs": [],
   "source": []
  }
 ],
 "metadata": {
  "kernelspec": {
   "display_name": "Python 3",
   "language": "python",
   "name": "python3"
  },
  "language_info": {
   "codemirror_mode": {
    "name": "ipython",
    "version": 3
   },
   "file_extension": ".py",
   "mimetype": "text/x-python",
   "name": "python",
   "nbconvert_exporter": "python",
   "pygments_lexer": "ipython3",
   "version": "3.6.5"
  }
 },
 "nbformat": 4,
 "nbformat_minor": 2
}
