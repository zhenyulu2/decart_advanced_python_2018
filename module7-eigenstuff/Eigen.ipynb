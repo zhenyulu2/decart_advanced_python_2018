{
 "cells": [
  {
   "cell_type": "markdown",
   "metadata": {},
   "source": [
    "# Eigenvalues and Eigenvectors\n",
    "\n",
    "The following discussion is drawn from Gilbert Strang *Linear Algebra* ???.\n",
    "\n",
    "Before we continue, we need to establish several concepts from linear algebra.\n",
    "\n",
    "### for an $m\\times n$ matrix:\n",
    "\n",
    "* The **rank** of a matrix is the number of linearly independent columns in the matrix\n",
    "* \"The **column space** of a matrix $A$ consists of all combinations of the columns of $A$.\" Another way of saying this is the column space of $A$ are all the vectors $\\mathbf{v}$  such that $A\\mathbf{x} = \\mathbf{v}$ has a solution (is consistent). Consequently $\\mathbf{v} \\in \\mathbb{R}^m$ (Why $m$?)\n",
    "* The **null space** of a matrix $A$ are all vectors $\\mathbf{x}$ such that $A\\mathbf{x}=\\mathbf{0}$. Every matrix has a null space. (What is the vector that is in the null space of every matrix?) The null space of a matrix is $x \\in \\mathbb{R}^n$. (Why $n$?)\n",
    "\n",
    "## *Eigen*\n",
    "\n",
    "Terms like **eigen function**, **eigen vector**, and **eigen value** all use the German word *eigen* which has meaning \"own\" or \"distinctive\".\n",
    "\n",
    "From calculus, the eigen function of the derivative operator ($\\frac{d}{dx}$) is the exponential function, because\n",
    "\n",
    "\\begin{equation}\n",
    "\\frac{d e^{\\lambda x}}{dx} = \\lambda e^{\\lambda x}\n",
    "\\end{equation}\n",
    "\n",
    "is simply  a scaled ($\\lambda$) version of the original function.\n",
    "\n",
    "## Eigenvectors\n",
    "\n",
    "An eigenvector of matrix $A$, is any vector $\\mathbf{e}$ such that\n",
    "\n",
    "\\begin{equation}\n",
    "A\\mathbf{e} = \\lambda \\mathbf{e}\n",
    "\\end{equation}\n",
    "\n",
    "where $\\lambda$ is a scalar value.\n",
    "\n",
    "This can be rewritten as \n",
    "\n",
    "\\begin{equation}\n",
    "\\left(A - \\mathbf{\\lambda}I\\right)\\mathbf{e}=\\mathbf{0}\n",
    "\\end{equation}\n",
    "\n",
    "where $I$ is the identity matrix (ones along the diagonal, zeros everywhere else).\n",
    "\n",
    "### Characteristic Polynomial\n",
    "\n",
    "For a $n\\times n$ matrix, the characteristic polynomial will be of order $n$.\n",
    "\n",
    "### Computing Eigenvalues and Eigenvectors\n",
    "\n",
    "1. Solve the characteristic polynomial to get the $n$ eigenvalues: $\\lambda_1, \\lambda_2, \\cdots, \\lambda_n$\n",
    "!. For each $\\lambda_i$ substitute back into $\\left(A - \\mathbf{\\lambda_i}I\\right)\\mathbf{e_i}=\\mathbf{0}$, and use elimination to solve for $\\mathbf{e_i}$.\n"
   ]
  },
  {
   "cell_type": "markdown",
   "metadata": {},
   "source": [
    "## Using Sympy for symbolic LA"
   ]
  },
  {
   "cell_type": "code",
   "execution_count": null,
   "metadata": {},
   "outputs": [],
   "source": [
    "from sympy import *\n",
    "init_printing(use_unicode=True)"
   ]
  },
  {
   "cell_type": "code",
   "execution_count": null,
   "metadata": {},
   "outputs": [],
   "source": [
    "A = Matrix([[1, -1], [3, 4], [0, 2]])\n",
    "A"
   ]
  },
  {
   "cell_type": "markdown",
   "metadata": {},
   "source": [
    "## Transpose"
   ]
  },
  {
   "cell_type": "code",
   "execution_count": null,
   "metadata": {},
   "outputs": [],
   "source": [
    "A.T"
   ]
  },
  {
   "cell_type": "code",
   "execution_count": null,
   "metadata": {},
   "outputs": [],
   "source": [
    "M = Matrix([[1, 0, 1], [2, -1, 3], [4, 3, 2]])"
   ]
  },
  {
   "cell_type": "code",
   "execution_count": null,
   "metadata": {},
   "outputs": [],
   "source": [
    "M"
   ]
  },
  {
   "cell_type": "code",
   "execution_count": null,
   "metadata": {},
   "outputs": [],
   "source": [
    "M.QRdecomposition()"
   ]
  },
  {
   "cell_type": "code",
   "execution_count": null,
   "metadata": {},
   "outputs": [],
   "source": [
    "M.eigenvals()"
   ]
  },
  {
   "cell_type": "code",
   "execution_count": null,
   "metadata": {},
   "outputs": [],
   "source": [
    "M.eigenvects()"
   ]
  },
  {
   "cell_type": "markdown",
   "metadata": {},
   "source": [
    "## Determinant"
   ]
  },
  {
   "cell_type": "code",
   "execution_count": null,
   "metadata": {},
   "outputs": [],
   "source": [
    "M.det()"
   ]
  },
  {
   "cell_type": "code",
   "execution_count": null,
   "metadata": {},
   "outputs": [],
   "source": [
    "M = Matrix([[1, 0, 1, 3], [2, 3, 4, 7], [-1, -3, -3, -4]])\n",
    "M"
   ]
  },
  {
   "cell_type": "code",
   "execution_count": null,
   "metadata": {},
   "outputs": [],
   "source": [
    "M.singular_values()"
   ]
  },
  {
   "cell_type": "code",
   "execution_count": null,
   "metadata": {},
   "outputs": [],
   "source": [
    "M.columnspace()"
   ]
  },
  {
   "cell_type": "code",
   "execution_count": null,
   "metadata": {},
   "outputs": [],
   "source": [
    "M.nullspace()"
   ]
  },
  {
   "cell_type": "code",
   "execution_count": null,
   "metadata": {},
   "outputs": [],
   "source": [
    "a,b,c,d,lmbd = symbols(\"a b c d lmbd\")"
   ]
  },
  {
   "cell_type": "code",
   "execution_count": null,
   "metadata": {},
   "outputs": [],
   "source": [
    "A = Matrix([[a,b],[c,d]])"
   ]
  },
  {
   "cell_type": "code",
   "execution_count": null,
   "metadata": {},
   "outputs": [],
   "source": [
    "B = A-lmbd*eye(2)"
   ]
  },
  {
   "cell_type": "code",
   "execution_count": null,
   "metadata": {},
   "outputs": [],
   "source": [
    "bd = B.det()\n",
    "bd"
   ]
  },
  {
   "cell_type": "code",
   "execution_count": null,
   "metadata": {},
   "outputs": [],
   "source": [
    "solve(bd,lmbd)"
   ]
  },
  {
   "cell_type": "markdown",
   "metadata": {},
   "source": [
    "## Numerically Computing Eigenvalues\n",
    "\n",
    ">There is no one best way to find the eigenvalues of a matrix. But there are cer- tainly some terrible ways, which should never be tried, and also some ideas that do deserve a permanent place. (Strang, p. 370)\n",
    "\n",
    "### [Computing Eigenvalues with numpy](https://docs.scipy.org/doc/numpy/reference/generated/numpy.linalg.eig.html)\n"
   ]
  },
  {
   "cell_type": "code",
   "execution_count": null,
   "metadata": {},
   "outputs": [],
   "source": [
    "from numpy import linalg as LA\n",
    "import numpy as np"
   ]
  },
  {
   "cell_type": "code",
   "execution_count": null,
   "metadata": {},
   "outputs": [],
   "source": [
    "w, v = LA.eig(np.diag((1, 2, 3)))"
   ]
  },
  {
   "cell_type": "code",
   "execution_count": null,
   "metadata": {},
   "outputs": [],
   "source": [
    "w"
   ]
  },
  {
   "cell_type": "code",
   "execution_count": null,
   "metadata": {},
   "outputs": [],
   "source": [
    "v,w"
   ]
  },
  {
   "cell_type": "markdown",
   "metadata": {},
   "source": [
    "#### Note: $v$ are columns"
   ]
  },
  {
   "cell_type": "code",
   "execution_count": null,
   "metadata": {},
   "outputs": [],
   "source": [
    "w, v = LA.eig(np.array([[1, -1], [1, 1]]))"
   ]
  },
  {
   "cell_type": "code",
   "execution_count": null,
   "metadata": {},
   "outputs": [],
   "source": [
    "w"
   ]
  },
  {
   "cell_type": "code",
   "execution_count": null,
   "metadata": {},
   "outputs": [],
   "source": [
    "v"
   ]
  },
  {
   "cell_type": "code",
   "execution_count": null,
   "metadata": {},
   "outputs": [],
   "source": []
  }
 ],
 "metadata": {
  "kernelspec": {
   "display_name": "Python 3",
   "language": "python",
   "name": "python3"
  },
  "language_info": {
   "codemirror_mode": {
    "name": "ipython",
    "version": 3
   },
   "file_extension": ".py",
   "mimetype": "text/x-python",
   "name": "python",
   "nbconvert_exporter": "python",
   "pygments_lexer": "ipython3",
   "version": "3.6.5"
  }
 },
 "nbformat": 4,
 "nbformat_minor": 2
}
